{
 "cells": [
  {
   "cell_type": "markdown",
   "metadata": {},
   "source": [
    "### The strategy.\n",
    "\n",
    "The strategy for this homework was to start sequentially from the first exercise and finish it ASAP.\n",
    "As I was not able to work on it immediately, and since some datasets did require quite an amount of time\n",
    "to create/download, I worked on smaller dataset samples while the complete ones were downloading.\n",
    "\n",
    "### Too much time.\n",
    "I noticed that some operation were also expensive when executed on abstract datatypes such as the DataFrames\n",
    "that pandas provides, hence some conversions were needed and dictionaries proved to be really useful because of \n",
    "the access time.\n",
    "\n",
    "### Exercise 4\n",
    "The algorithmic question was challenging as I did not want to lose time looking back and forth the whole string \n",
    "each time. That is why I used the idea of 'cursors' moving inwards (more on that on exercise_4.py)."
   ]
  }
 ],
 "metadata": {
  "kernelspec": {
   "display_name": "Python 3",
   "language": "python",
   "name": "python3"
  },
  "language_info": {
   "codemirror_mode": {
    "name": "ipython",
    "version": 3
   },
   "file_extension": ".py",
   "mimetype": "text/x-python",
   "name": "python",
   "nbconvert_exporter": "python",
   "pygments_lexer": "ipython3",
   "version": "3.7.4"
  }
 },
 "nbformat": 4,
 "nbformat_minor": 2
}
